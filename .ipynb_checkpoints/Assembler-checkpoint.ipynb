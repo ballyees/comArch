{
 "cells": [
  {
   "cell_type": "code",
   "execution_count": 144,
   "metadata": {
    "collapsed": true
   },
   "outputs": [
    {
     "name": "stdout",
     "output_type": "stream",
     "text": [
      "['five', '.fill', '5'] 5\n",
      "['neg1', '.fill', '-1'] -1\n",
      "['stAddr', '.fill', 'start'] start\n"
     ]
    },
    {
     "ename": "AttributeError",
     "evalue": "module 'AssemblerFunc' has no attribute 'cvtSymbolicAddress2RegisterNumber'",
     "output_type": "error",
     "traceback": [
      "\u001b[1;31m---------------------------------------------------------------------------\u001b[0m",
      "\u001b[1;31mAttributeError\u001b[0m                            Traceback (most recent call last)",
      "\u001b[1;32m<ipython-input-144-945cfd41573e>\u001b[0m in \u001b[0;36m<module>\u001b[1;34m\u001b[0m\n\u001b[0;32m     18\u001b[0m         \u001b[0mlines\u001b[0m \u001b[1;33m=\u001b[0m \u001b[1;33m[\u001b[0m\u001b[0maf\u001b[0m\u001b[1;33m.\u001b[0m\u001b[0maddFillVal\u001b[0m\u001b[1;33m(\u001b[0m\u001b[0msymbolicAddress\u001b[0m\u001b[1;33m,\u001b[0m \u001b[0mfields\u001b[0m\u001b[1;33m,\u001b[0m \u001b[0mi\u001b[0m\u001b[1;33m)\u001b[0m \u001b[1;32mfor\u001b[0m \u001b[0mi\u001b[0m\u001b[1;33m,\u001b[0m \u001b[0mfields\u001b[0m \u001b[1;32min\u001b[0m \u001b[0menumerate\u001b[0m\u001b[1;33m(\u001b[0m\u001b[0mfile\u001b[0m\u001b[1;33m.\u001b[0m\u001b[0mreadlines\u001b[0m\u001b[1;33m(\u001b[0m\u001b[1;33m)\u001b[0m\u001b[1;33m)\u001b[0m\u001b[1;33m]\u001b[0m\u001b[1;33m\u001b[0m\u001b[1;33m\u001b[0m\u001b[0m\n\u001b[0;32m     19\u001b[0m         \u001b[1;32mfor\u001b[0m \u001b[0mi\u001b[0m\u001b[1;33m,\u001b[0m \u001b[0ml\u001b[0m \u001b[1;32min\u001b[0m \u001b[0menumerate\u001b[0m\u001b[1;33m(\u001b[0m\u001b[0mlines\u001b[0m\u001b[1;33m)\u001b[0m\u001b[1;33m:\u001b[0m\u001b[1;33m\u001b[0m\u001b[1;33m\u001b[0m\u001b[0m\n\u001b[1;32m---> 20\u001b[1;33m             \u001b[0mfields\u001b[0m \u001b[1;33m=\u001b[0m \u001b[0maf\u001b[0m\u001b[1;33m.\u001b[0m\u001b[0mcvtSymbolicAddress2RegisterNumber\u001b[0m\u001b[1;33m(\u001b[0m\u001b[0ml\u001b[0m\u001b[1;33m,\u001b[0m \u001b[0msymbolicAddress\u001b[0m\u001b[1;33m)\u001b[0m\u001b[1;33m\u001b[0m\u001b[1;33m\u001b[0m\u001b[0m\n\u001b[0m\u001b[0;32m     21\u001b[0m             \u001b[0mprint\u001b[0m\u001b[1;33m(\u001b[0m\u001b[0ml\u001b[0m\u001b[1;33m,\u001b[0m \u001b[0ml\u001b[0m\u001b[1;33m[\u001b[0m\u001b[1;36m2\u001b[0m\u001b[1;33m:\u001b[0m\u001b[1;33m]\u001b[0m\u001b[1;33m)\u001b[0m\u001b[1;33m\u001b[0m\u001b[1;33m\u001b[0m\u001b[0m\n\u001b[0;32m     22\u001b[0m \u001b[1;31m#         print(lines)\u001b[0m\u001b[1;33m\u001b[0m\u001b[1;33m\u001b[0m\u001b[1;33m\u001b[0m\u001b[0m\n",
      "\u001b[1;31mAttributeError\u001b[0m: module 'AssemblerFunc' has no attribute 'cvtSymbolicAddress2RegisterNumber'"
     ]
    }
   ],
   "source": [
    "from re import findall\n",
    "from sys import argv\n",
    "from os.path import abspath\n",
    "from os import listdir\n",
    "from AssemblerConfig import Config\n",
    "import AssemblerFunc as af\n",
    "\n",
    "dirs = []\n",
    "complieFile = [] if '-f' in argv[1:] else argv[1:]\n",
    "if not complieFile:\n",
    "    complieFile = list(filter(lambda file: \".s\" in file, listdir()))\n",
    "# print(complieFile, listdir())\n",
    "for f in complieFile:\n",
    "    with open(abspath(f), 'r') as file:\n",
    "\n",
    "        # init value\n",
    "        symbolicAddress = {}\n",
    "        lines = [af.addFillVal(symbolicAddress, fields, i) for i, fields in enumerate(file.readlines())]\n",
    "        address = list(range(len(lines)))\n",
    "        fields = list(range(len(lines)))\n",
    "        for i, l in enumerate(lines):\n",
    "            f = af.cvtSymbolicAddress2RegisterNumber(l.copy(), symbolicAddress, i)\n",
    "            # print(f)\n",
    "            fields[i] = f.copy()\n",
    "            if Config.opcodeIType.get(f[1], None):\n",
    "                address[i] = af.iTypeFormatter(f, i)\n",
    "            elif Config.opcodeRType.get(f[1], None):\n",
    "                address[i] = af.rTypeFormatter(f)\n",
    "            elif Config.opcodeJType.get(f[1], None):\n",
    "                address[i] = af.jTypeFormatter(f)\n",
    "            elif Config.opcodeOType.get(f[1], None):\n",
    "                address[i] = af.oTypeFormatter(f)\n",
    "            elif f[1] == '.fill':\n",
    "                address[i] = af.fillInstructionFormatter(f, i)\n",
    "        # print(address)\n",
    "        check = ['8454151', '9043971', '655361', '16842754', '16842749', '29360128', '25165824', '5', '-1', '2']\n",
    "        check = [int(c) for c in check]\n",
    "        add = []\n",
    "        for i, a in enumerate(address):\n",
    "            # print(len(a))\n",
    "            if fields[i][1] == '.fill':\n",
    "                dec = int(fields[i][2])\n",
    "                addr = int(a, base=2)\n",
    "                print(f'(address {i}): {dec} (hex {addr:#x})')\n",
    "            else:\n",
    "                dec = int(a, base=2)\n",
    "                print(f'(address {i}): {dec} (hex {dec:#08x})', len(a))\n",
    "            add.append(dec)\n",
    "#         for c, a in zip(check, add):\n",
    "#             print(c, a, c == a)"
   ]
  },
  {
   "cell_type": "code",
   "execution_count": 90,
   "metadata": {},
   "outputs": [
    {
     "name": "stdout",
     "output_type": "stream",
     "text": [
      "4294967295\n",
      "0xffffffff\n"
     ]
    }
   ],
   "source": [
    "a = f\"{'1'*31}1\" \n",
    "a = int(a, base=2)\n",
    "print(a)\n",
    "print(f'{a:#08x}')"
   ]
  },
  {
   "cell_type": "code",
   "execution_count": 89,
   "metadata": {},
   "outputs": [
    {
     "data": {
      "text/plain": [
       "'00000000000000011110000011110011'"
      ]
     },
     "execution_count": 89,
     "metadata": {},
     "output_type": "execute_result"
    }
   ],
   "source": [
    "val = int(\"123123\")\n",
    "val = f'{val:032b}'\n",
    "val"
   ]
  },
  {
   "cell_type": "code",
   "execution_count": 121,
   "metadata": {},
   "outputs": [
    {
     "data": {
      "text/plain": [
       "1"
      ]
     },
     "execution_count": 121,
     "metadata": {},
     "output_type": "execute_result"
    }
   ],
   "source": [
    "0b11111111111111111111111111111111\n",
    "(0b111111111111111 ^ 0b111111111111111) + 1"
   ]
  },
  {
   "cell_type": "code",
   "execution_count": 150,
   "metadata": {},
   "outputs": [
    {
     "name": "stdout",
     "output_type": "stream",
     "text": [
      "16777218\n"
     ]
    },
    {
     "data": {
      "text/plain": [
       "'0b1000000000000000000000010'"
      ]
     },
     "execution_count": 150,
     "metadata": {},
     "output_type": "execute_result"
    }
   ],
   "source": [
    "a = int(\"0\"*7 + \"100\" + \"0\"*6 + \"0\"*14 + \"10\", base=2)\n",
    "print(a)\n",
    "bin(a)"
   ]
  },
  {
   "cell_type": "code",
   "execution_count": 148,
   "metadata": {},
   "outputs": [
    {
     "data": {
      "text/plain": [
       "'00000001000000001111111111111101'"
      ]
     },
     "execution_count": 148,
     "metadata": {},
     "output_type": "execute_result"
    }
   ],
   "source": [
    "f'{16842749:032b}'"
   ]
  },
  {
   "cell_type": "code",
   "execution_count": 158,
   "metadata": {},
   "outputs": [
    {
     "data": {
      "text/plain": [
       "4294967290"
      ]
     },
     "execution_count": 158,
     "metadata": {},
     "output_type": "execute_result"
    }
   ],
   "source": [
    "5 ^ 0b11111111111111111111111111111111"
   ]
  },
  {
   "cell_type": "code",
   "execution_count": 161,
   "metadata": {},
   "outputs": [
    {
     "data": {
      "text/plain": [
       "'00000000100000010000000000000101'"
      ]
     },
     "execution_count": 161,
     "metadata": {},
     "output_type": "execute_result"
    }
   ],
   "source": [
    "f'{8454149:032b}'"
   ]
  },
  {
   "cell_type": "code",
   "execution_count": 163,
   "metadata": {},
   "outputs": [
    {
     "data": {
      "text/plain": [
       "'00000000100000010000000000000111'"
      ]
     },
     "execution_count": 163,
     "metadata": {},
     "output_type": "execute_result"
    }
   ],
   "source": [
    "f'{8454151:032b}'"
   ]
  }
 ],
 "metadata": {
  "kernelspec": {
   "display_name": "Python 3",
   "language": "python",
   "name": "python3"
  },
  "language_info": {
   "codemirror_mode": {
    "name": "ipython",
    "version": 3
   },
   "file_extension": ".py",
   "mimetype": "text/x-python",
   "name": "python",
   "nbconvert_exporter": "python",
   "pygments_lexer": "ipython3",
   "version": "3.8.3"
  }
 },
 "nbformat": 4,
 "nbformat_minor": 4
}
